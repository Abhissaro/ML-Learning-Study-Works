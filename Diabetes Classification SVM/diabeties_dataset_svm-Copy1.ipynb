{
 "cells": [
  {
   "cell_type": "code",
   "execution_count": 1,
   "id": "c0f49dd8",
   "metadata": {},
   "outputs": [
    {
     "name": "stdout",
     "output_type": "stream",
     "text": [
      "(768, 9)\n"
     ]
    },
    {
     "data": {
      "text/html": [
       "<div>\n",
       "<style scoped>\n",
       "    .dataframe tbody tr th:only-of-type {\n",
       "        vertical-align: middle;\n",
       "    }\n",
       "\n",
       "    .dataframe tbody tr th {\n",
       "        vertical-align: top;\n",
       "    }\n",
       "\n",
       "    .dataframe thead th {\n",
       "        text-align: right;\n",
       "    }\n",
       "</style>\n",
       "<table border=\"1\" class=\"dataframe\">\n",
       "  <thead>\n",
       "    <tr style=\"text-align: right;\">\n",
       "      <th></th>\n",
       "      <th>Pregnancies</th>\n",
       "      <th>Glucose</th>\n",
       "      <th>BloodPressure</th>\n",
       "      <th>SkinThickness</th>\n",
       "      <th>Insulin</th>\n",
       "      <th>BMI</th>\n",
       "      <th>DiabetesPedigreeFunction</th>\n",
       "      <th>Age</th>\n",
       "      <th>Outcome</th>\n",
       "    </tr>\n",
       "  </thead>\n",
       "  <tbody>\n",
       "    <tr>\n",
       "      <th>0</th>\n",
       "      <td>6</td>\n",
       "      <td>148</td>\n",
       "      <td>72</td>\n",
       "      <td>35</td>\n",
       "      <td>0</td>\n",
       "      <td>33.6</td>\n",
       "      <td>0.627</td>\n",
       "      <td>50</td>\n",
       "      <td>1</td>\n",
       "    </tr>\n",
       "    <tr>\n",
       "      <th>1</th>\n",
       "      <td>1</td>\n",
       "      <td>85</td>\n",
       "      <td>66</td>\n",
       "      <td>29</td>\n",
       "      <td>0</td>\n",
       "      <td>26.6</td>\n",
       "      <td>0.351</td>\n",
       "      <td>31</td>\n",
       "      <td>0</td>\n",
       "    </tr>\n",
       "    <tr>\n",
       "      <th>2</th>\n",
       "      <td>8</td>\n",
       "      <td>183</td>\n",
       "      <td>64</td>\n",
       "      <td>0</td>\n",
       "      <td>0</td>\n",
       "      <td>23.3</td>\n",
       "      <td>0.672</td>\n",
       "      <td>32</td>\n",
       "      <td>1</td>\n",
       "    </tr>\n",
       "    <tr>\n",
       "      <th>3</th>\n",
       "      <td>1</td>\n",
       "      <td>89</td>\n",
       "      <td>66</td>\n",
       "      <td>23</td>\n",
       "      <td>94</td>\n",
       "      <td>28.1</td>\n",
       "      <td>0.167</td>\n",
       "      <td>21</td>\n",
       "      <td>0</td>\n",
       "    </tr>\n",
       "    <tr>\n",
       "      <th>4</th>\n",
       "      <td>0</td>\n",
       "      <td>137</td>\n",
       "      <td>40</td>\n",
       "      <td>35</td>\n",
       "      <td>168</td>\n",
       "      <td>43.1</td>\n",
       "      <td>2.288</td>\n",
       "      <td>33</td>\n",
       "      <td>1</td>\n",
       "    </tr>\n",
       "  </tbody>\n",
       "</table>\n",
       "</div>"
      ],
      "text/plain": [
       "   Pregnancies  Glucose  BloodPressure  SkinThickness  Insulin   BMI  \\\n",
       "0            6      148             72             35        0  33.6   \n",
       "1            1       85             66             29        0  26.6   \n",
       "2            8      183             64              0        0  23.3   \n",
       "3            1       89             66             23       94  28.1   \n",
       "4            0      137             40             35      168  43.1   \n",
       "\n",
       "   DiabetesPedigreeFunction  Age  Outcome  \n",
       "0                     0.627   50        1  \n",
       "1                     0.351   31        0  \n",
       "2                     0.672   32        1  \n",
       "3                     0.167   21        0  \n",
       "4                     2.288   33        1  "
      ]
     },
     "execution_count": 1,
     "metadata": {},
     "output_type": "execute_result"
    }
   ],
   "source": [
    "from sklearn import datasets,metrics,svm \n",
    "import numpy as np\n",
    "from sklearn import model_selection \n",
    "import pandas as pd \n",
    "\n",
    "# load the csv file \n",
    "\n",
    "path = './diabetes.csv'\n",
    "\n",
    "data = pd.read_csv(path)\n",
    "\n",
    "print(data.shape)\n",
    "data.head()"
   ]
  },
  {
   "cell_type": "code",
   "execution_count": 2,
   "id": "444ab3fc",
   "metadata": {},
   "outputs": [
    {
     "name": "stdout",
     "output_type": "stream",
     "text": [
      "Index(['Pregnancies', 'Glucose', 'BloodPressure', 'SkinThickness', 'Insulin',\n",
      "       'BMI', 'DiabetesPedigreeFunction', 'Age'],\n",
      "      dtype='object')\n",
      "0      1\n",
      "1      0\n",
      "2      1\n",
      "3      0\n",
      "4      1\n",
      "      ..\n",
      "763    0\n",
      "764    0\n",
      "765    0\n",
      "766    1\n",
      "767    0\n",
      "Name: Outcome, Length: 768, dtype: int64\n",
      "[1 0]\n"
     ]
    }
   ],
   "source": [
    "X = data.drop('Outcome',axis=1)\n",
    "print(X.columns)\n",
    "Y = data['Outcome']\n",
    "print(Y)\n",
    "print(Y.unique())\n",
    "\n"
   ]
  },
  {
   "cell_type": "code",
   "execution_count": 3,
   "id": "d11e41bd",
   "metadata": {},
   "outputs": [],
   "source": [
    "X = X.values\n",
    "Y = Y.values\n"
   ]
  },
  {
   "cell_type": "code",
   "execution_count": 4,
   "id": "e4c6b8dc",
   "metadata": {},
   "outputs": [
    {
     "name": "stdout",
     "output_type": "stream",
     "text": [
      "(537, 8) (537,)\n",
      "(231, 8) (231,)\n"
     ]
    }
   ],
   "source": [
    "# split the data into train and test \n",
    "Xtrain,Xtest,ytrain,ytest = model_selection.train_test_split(X,Y,test_size=0.3,random_state=10)\n",
    "\n",
    "print(Xtrain.shape,ytrain.shape)\n",
    "print(Xtest.shape,ytest.shape)"
   ]
  },
  {
   "cell_type": "code",
   "execution_count": 6,
   "id": "a0894679",
   "metadata": {},
   "outputs": [
    {
     "name": "stdout",
     "output_type": "stream",
     "text": [
      "Accuracy:  0.7402597402597403\n"
     ]
    }
   ],
   "source": [
    "# create the model \n",
    "svmModel = svm.SVC(kernel='linear',random_state=2) # linear, poly, rbf, sigmoid\n",
    "svmModel = svmModel.fit(Xtrain,ytrain)\n",
    "op= svmModel.predict(Xtest)\n",
    "\n",
    "acc= metrics.accuracy_score(op,ytest)\n",
    "print('Accuracy: ',acc)\n",
    "\n"
   ]
  },
  {
   "cell_type": "code",
   "execution_count": 7,
   "id": "cc71e46b",
   "metadata": {},
   "outputs": [
    {
     "name": "stdout",
     "output_type": "stream",
     "text": [
      "Accuracy:  0.7838541666666666\n",
      "Accuracy:  0.7421875\n",
      "Accuracy:  0.5338541666666666\n",
      "Accuracy:  0.7421875\n",
      "Accuracy:  0.7694805194805194\n",
      "Accuracy:  0.724025974025974\n",
      "Accuracy:  0.5487012987012987\n",
      "Accuracy:  0.7207792207792207\n",
      "Accuracy:  0.7402597402597403\n",
      "Accuracy:  0.7186147186147186\n",
      "Accuracy:  0.5238095238095238\n",
      "Accuracy:  0.70995670995671\n",
      "Accuracy:  0.7597402597402597\n",
      "Accuracy:  0.7077922077922078\n",
      "Accuracy:  0.512987012987013\n",
      "Accuracy:  0.7077922077922078\n",
      "[[0.78385417 0.7421875  0.53385417 0.7421875 ]\n",
      " [0.76948052 0.72402597 0.5487013  0.72077922]\n",
      " [0.74025974 0.71861472 0.52380952 0.70995671]\n",
      " [0.75974026 0.70779221 0.51298701 0.70779221]]\n"
     ]
    }
   ],
   "source": [
    "ratio = [0.5,0.4,0.3,0.2]\n",
    "kernel = ['linear','poly','sigmoid','rbf']\n",
    "result = np.zeros((len(ratio),len(kernel)))\n",
    "for i in range(len(ratio)):\n",
    "    for j in range(len(kernel)):\n",
    "        # split the data into train and test \n",
    "        Xtrain,Xtest,ytrain,ytest = model_selection.train_test_split(X,Y,test_size=ratio[i],random_state=10)\n",
    "\n",
    "        #print(Xtrain.shape,ytrain.shape)\n",
    "        #print(Xtest.shape,ytest.shape)\n",
    "        # create the model \n",
    "        svmModel = svm.SVC(kernel=kernel[j],random_state=2) # linear, poly, rbf, sigmoid\n",
    "        svmModel = svmModel.fit(Xtrain,ytrain)\n",
    "        op= svmModel.predict(Xtest)\n",
    "\n",
    "        acc= metrics.accuracy_score(op,ytest)\n",
    "        print('Accuracy: ',acc)\n",
    "        result[i,j]=acc\n",
    "\n",
    "print(result)\n",
    "\n"
   ]
  },
  {
   "cell_type": "code",
   "execution_count": 8,
   "id": "ebe26137",
   "metadata": {},
   "outputs": [
    {
     "data": {
      "text/html": [
       "<div>\n",
       "<style scoped>\n",
       "    .dataframe tbody tr th:only-of-type {\n",
       "        vertical-align: middle;\n",
       "    }\n",
       "\n",
       "    .dataframe tbody tr th {\n",
       "        vertical-align: top;\n",
       "    }\n",
       "\n",
       "    .dataframe thead th {\n",
       "        text-align: right;\n",
       "    }\n",
       "</style>\n",
       "<table border=\"1\" class=\"dataframe\">\n",
       "  <thead>\n",
       "    <tr style=\"text-align: right;\">\n",
       "      <th></th>\n",
       "      <th>linear</th>\n",
       "      <th>poly</th>\n",
       "      <th>sigmoid</th>\n",
       "      <th>rbf</th>\n",
       "    </tr>\n",
       "  </thead>\n",
       "  <tbody>\n",
       "    <tr>\n",
       "      <th>0.5</th>\n",
       "      <td>0.783854</td>\n",
       "      <td>0.742188</td>\n",
       "      <td>0.533854</td>\n",
       "      <td>0.742188</td>\n",
       "    </tr>\n",
       "    <tr>\n",
       "      <th>0.4</th>\n",
       "      <td>0.769481</td>\n",
       "      <td>0.724026</td>\n",
       "      <td>0.548701</td>\n",
       "      <td>0.720779</td>\n",
       "    </tr>\n",
       "    <tr>\n",
       "      <th>0.3</th>\n",
       "      <td>0.740260</td>\n",
       "      <td>0.718615</td>\n",
       "      <td>0.523810</td>\n",
       "      <td>0.709957</td>\n",
       "    </tr>\n",
       "    <tr>\n",
       "      <th>0.2</th>\n",
       "      <td>0.759740</td>\n",
       "      <td>0.707792</td>\n",
       "      <td>0.512987</td>\n",
       "      <td>0.707792</td>\n",
       "    </tr>\n",
       "  </tbody>\n",
       "</table>\n",
       "</div>"
      ],
      "text/plain": [
       "       linear      poly   sigmoid       rbf\n",
       "0.5  0.783854  0.742188  0.533854  0.742188\n",
       "0.4  0.769481  0.724026  0.548701  0.720779\n",
       "0.3  0.740260  0.718615  0.523810  0.709957\n",
       "0.2  0.759740  0.707792  0.512987  0.707792"
      ]
     },
     "execution_count": 8,
     "metadata": {},
     "output_type": "execute_result"
    }
   ],
   "source": [
    "df = pd.DataFrame(result, index=ratio, columns=kernel)\n",
    "df"
   ]
  },
  {
   "cell_type": "code",
   "execution_count": 9,
   "id": "6e23e437",
   "metadata": {},
   "outputs": [
    {
     "data": {
      "text/plain": [
       "<AxesSubplot:>"
      ]
     },
     "execution_count": 9,
     "metadata": {},
     "output_type": "execute_result"
    },
    {
     "data": {
      "image/png": "[encoded data removed]",
      "text/plain": [
       "<Figure size 432x288 with 1 Axes>"
      ]
     },
     "metadata": {
      "needs_background": "light"
     },
     "output_type": "display_data"
    }
   ],
   "source": [
    "df.plot(kind='bar')"
   ]
  },
  {
   "cell_type": "code",
   "execution_count": null,
   "id": "e378d984",
   "metadata": {},
   "outputs": [],
   "source": []
  }
 ],
 "metadata": {
  "kernelspec": {
   "display_name": "Python 3 (ipykernel)",
   "language": "python",
   "name": "python3"
  },
  "language_info": {
   "codemirror_mode": {
    "name": "ipython",
    "version": 3
   },
   "file_extension": ".py",
   "mimetype": "text/x-python",
   "name": "python",
   "nbconvert_exporter": "python",
   "pygments_lexer": "ipython3",
   "version": "3.9.13"
  }
 },
 "nbformat": 4,
 "nbformat_minor": 5
}
