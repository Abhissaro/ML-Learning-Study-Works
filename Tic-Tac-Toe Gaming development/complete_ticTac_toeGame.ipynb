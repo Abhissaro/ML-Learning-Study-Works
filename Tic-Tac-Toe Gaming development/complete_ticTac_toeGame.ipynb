{
 "cells": [
  {
   "cell_type": "code",
   "execution_count": 43,
   "id": "d9b38eab",
   "metadata": {},
   "outputs": [],
   "source": [
    "game = ['+','+','+','+','+','+','+','+','+'] \n",
    "\n",
    "\n",
    "def display():\n",
    "    count=0\n",
    "    for i in range(3):\n",
    "        print('|',end=' ')\n",
    "        for j in range(3):\n",
    "            \n",
    "            print(game[count],\" |\",end=' ')\n",
    "            count=count+1\n",
    "            \n",
    "        print()\n",
    "        print('----------------')\n",
    "\n",
    "\n",
    "def wining (p):\n",
    "    if(p==1):\n",
    "        chk = 'X'\n",
    "    else:\n",
    "        chk = 'O'\n",
    "    if(game[0]==chk and game[1]==chk and game[2]==chk):\n",
    "        win=1\n",
    "    elif(game[3]==chk and game[4]==chk and game[5]==chk):\n",
    "        win=1\n",
    "    elif(game[6]==chk and game[7]==chk and game[8]==chk):\n",
    "        win=1\n",
    "    elif(game[0]==chk and game[3]==chk and game[6]==chk):\n",
    "        win=1\n",
    "    elif(game[1]==chk and game[4]==chk and game[7]==chk):\n",
    "        win=1\n",
    "    elif(game[2]==chk and game[5]==chk and game[8]==chk):\n",
    "        win=1\n",
    "    elif(game[0]==chk and game[4]==chk and game[8]==chk):\n",
    "        win=1\n",
    "    elif(game[2]==chk and game[4]==chk and game[6]==chk):\n",
    "        win=1\n",
    "    else:\n",
    "        win=0\n",
    "    if(win==1 and p==1):\n",
    "        return(1)\n",
    "    elif(win==1 and p==2):\n",
    "        return(2)\n",
    "    else:\n",
    "        return(0)\n"
   ]
  },
  {
   "cell_type": "code",
   "execution_count": 44,
   "id": "cf47f684",
   "metadata": {},
   "outputs": [
    {
     "name": "stdout",
     "output_type": "stream",
     "text": [
      "| +  | +  | +  | \n",
      "----------------\n",
      "| +  | +  | +  | \n",
      "----------------\n",
      "| +  | +  | +  | \n",
      "----------------\n"
     ]
    }
   ],
   "source": [
    "display()"
   ]
  },
  {
   "cell_type": "code",
   "execution_count": 45,
   "id": "3c16e6f9",
   "metadata": {},
   "outputs": [
    {
     "name": "stdout",
     "output_type": "stream",
     "text": [
      "Player 1 select the position (1-9):1\n",
      "| X  | +  | +  | \n",
      "----------------\n",
      "| +  | +  | +  | \n",
      "----------------\n",
      "| +  | +  | +  | \n",
      "----------------\n",
      "Player 2 select the position (1-9):5\n",
      "| X  | +  | +  | \n",
      "----------------\n",
      "| +  | O  | +  | \n",
      "----------------\n",
      "| +  | +  | +  | \n",
      "----------------\n",
      "Player 1 select the position (1-9):2\n",
      "| X  | X  | +  | \n",
      "----------------\n",
      "| +  | O  | +  | \n",
      "----------------\n",
      "| +  | +  | +  | \n",
      "----------------\n",
      "Player 2 select the position (1-9):6\n",
      "| X  | X  | +  | \n",
      "----------------\n",
      "| +  | O  | O  | \n",
      "----------------\n",
      "| +  | +  | +  | \n",
      "----------------\n",
      "Player 1 select the position (1-9):3\n",
      "| X  | X  | X  | \n",
      "----------------\n",
      "| +  | O  | O  | \n",
      "----------------\n",
      "| +  | +  | +  | \n",
      "----------------\n",
      "player  1 has won the game\n"
     ]
    }
   ],
   "source": [
    "w=0\n",
    "for i in range(1,10):\n",
    "    if(i%2!=0):\n",
    "        f = 0\n",
    "        while(f==0):\n",
    "            chance = int(input(\"Player 1 select the position (1-9):\"))\n",
    "            if(chance<=9 and chance>=1 and game[chance-1]=='+'):\n",
    "                f=1\n",
    "            else:\n",
    "                f=0\n",
    "                print(\"Wrong Entry, please re-enter\")\n",
    "        \n",
    "        \n",
    "        player = 1\n",
    "        game[chance-1]= 'X'\n",
    "        w=wining(player)\n",
    "    else:\n",
    "        f=0\n",
    "        while(f==0):\n",
    "            chance = int(input(\"Player 2 select the position (1-9):\"))\n",
    "            if(chance<=9 and chance>=1 and game[chance-1]=='+'):\n",
    "                f=1\n",
    "            else:\n",
    "                f=0\n",
    "                print(\"Wrong Entry, please re-enter\")\n",
    "                \n",
    "        player = 2\n",
    "        game[chance-1]='O'\n",
    "        w=wining(player)\n",
    "        \n",
    "    display()\n",
    "    if(w==1 or w==2):\n",
    "        print(\"player \",w, \"has won the game\")\n",
    "        break;\n",
    "    \n",
    "    \n",
    "\n",
    "    \n",
    "        \n",
    "    "
   ]
  },
  {
   "cell_type": "code",
   "execution_count": null,
   "id": "2818e040",
   "metadata": {},
   "outputs": [],
   "source": [
    "# check if the position is already taken or not , if it is already taken , then ask user to re enter the value \n",
    "# if user enters number other than 1-9 , need to ask user to re enter \n"
   ]
  }
 ],
 "metadata": {
  "kernelspec": {
   "display_name": "Python 3 (ipykernel)",
   "language": "python",
   "name": "python3"
  },
  "language_info": {
   "codemirror_mode": {
    "name": "ipython",
    "version": 3
   },
   "file_extension": ".py",
   "mimetype": "text/x-python",
   "name": "python",
   "nbconvert_exporter": "python",
   "pygments_lexer": "ipython3",
   "version": "3.9.7"
  }
 },
 "nbformat": 4,
 "nbformat_minor": 5
}
