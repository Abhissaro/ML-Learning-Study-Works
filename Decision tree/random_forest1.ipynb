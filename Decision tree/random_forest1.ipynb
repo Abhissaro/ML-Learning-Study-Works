{
 "cells": [
  {
   "cell_type": "code",
   "execution_count": 14,
   "id": "8797a05f",
   "metadata": {},
   "outputs": [
    {
     "name": "stdout",
     "output_type": "stream",
     "text": [
      "Training accuracy DT:  1.0\n",
      "Testing accuracy DT:  0.6818181818181818\n",
      "Training accuracy RF:  1.0\n",
      "Testing accuracy RF:  0.7467532467532467\n"
     ]
    }
   ],
   "source": [
    "import pandas as pd\n",
    "from sklearn import tree,metrics\n",
    "from sklearn.model_selection import train_test_split\n",
    "from sklearn import ensemble\n",
    "\n",
    "path = \"./diabetes.csv\"\n",
    "\n",
    "data = pd.read_csv(path)\n",
    "\n",
    "X = data.drop('Outcome',axis=1)\n",
    "y = data['Outcome']\n",
    "\n",
    "Xtrain,Xtest,ytrain,ytest = train_test_split(X,y,test_size=0.2,random_state=10)\n",
    "\n",
    "dtModel = tree.DecisionTreeClassifier(criterion='gini',random_state=10)\n",
    "rfModel = ensemble.RandomForestClassifier(n_estimators=500,criterion='gini',random_state=10) # the number of trees\n",
    "# collectively takein the decisions \n",
    " \n",
    "\n",
    "dtModel = dtModel.fit(Xtrain,ytrain)\n",
    "optrain = dtModel.predict(Xtrain)\n",
    "optest = dtModel.predict(Xtest)\n",
    "\n",
    "rfModel = rfModel.fit(Xtrain,ytrain)\n",
    "optrainRF = rfModel.predict(Xtrain)\n",
    "optestRF = rfModel.predict(Xtest)\n",
    "\n",
    "\n",
    "\n",
    "acctrain = metrics.accuracy_score(optrain,ytrain)\n",
    "acctest = metrics.accuracy_score(optest,ytest)\n",
    "\n",
    "# random Forest result\n",
    "acctrainRF = metrics.accuracy_score(optrainRF,ytrain)\n",
    "acctestRF = metrics.accuracy_score(optestRF,ytest)\n",
    "\n",
    "\n",
    "\n",
    "print('Training accuracy DT: ',acctrain)\n",
    "print('Testing accuracy DT: ',acctest)\n",
    "\n",
    "print('Training accuracy RF: ',acctrainRF)\n",
    "print('Testing accuracy RF: ',acctestRF)"
   ]
  },
  {
   "cell_type": "code",
   "execution_count": null,
   "id": "a18da024",
   "metadata": {},
   "outputs": [],
   "source": []
  }
 ],
 "metadata": {
  "kernelspec": {
   "display_name": "Python 3 (ipykernel)",
   "language": "python",
   "name": "python3"
  },
  "language_info": {
   "codemirror_mode": {
    "name": "ipython",
    "version": 3
   },
   "file_extension": ".py",
   "mimetype": "text/x-python",
   "name": "python",
   "nbconvert_exporter": "python",
   "pygments_lexer": "ipython3",
   "version": "3.9.7"
  }
 },
 "nbformat": 4,
 "nbformat_minor": 5
}
