{
 "cells": [
  {
   "cell_type": "code",
   "execution_count": 1,
   "id": "6694a584",
   "metadata": {},
   "outputs": [
    {
     "name": "stdout",
     "output_type": "stream",
     "text": [
      "(19856, 15)\n"
     ]
    }
   ],
   "source": [
    "import pandas as pd \n",
    "import numpy as np \n",
    "\n",
    "path = './Leads Data - Hiba.xlsx'\n",
    "\n",
    "data = pd.read_excel(path)\n",
    "print(data.shape)"
   ]
  },
  {
   "cell_type": "code",
   "execution_count": 2,
   "id": "64102da0",
   "metadata": {},
   "outputs": [
    {
     "data": {
      "text/html": [
       "<div>\n",
       "<style scoped>\n",
       "    .dataframe tbody tr th:only-of-type {\n",
       "        vertical-align: middle;\n",
       "    }\n",
       "\n",
       "    .dataframe tbody tr th {\n",
       "        vertical-align: top;\n",
       "    }\n",
       "\n",
       "    .dataframe thead th {\n",
       "        text-align: right;\n",
       "    }\n",
       "</style>\n",
       "<table border=\"1\" class=\"dataframe\">\n",
       "  <thead>\n",
       "    <tr style=\"text-align: right;\">\n",
       "      <th></th>\n",
       "      <th>Leads ID</th>\n",
       "      <th>Name</th>\n",
       "      <th>Country/Region</th>\n",
       "      <th>Language</th>\n",
       "      <th>Channel Type</th>\n",
       "      <th>Channel Source</th>\n",
       "      <th>Leads Batch</th>\n",
       "      <th>Organization</th>\n",
       "      <th>Sales</th>\n",
       "      <th>Leads Status</th>\n",
       "      <th>Allocation Date</th>\n",
       "      <th>Follow Up Status</th>\n",
       "      <th>Feedback</th>\n",
       "      <th>Feedback Remarks</th>\n",
       "      <th>Feedback Time</th>\n",
       "    </tr>\n",
       "  </thead>\n",
       "  <tbody>\n",
       "    <tr>\n",
       "      <th>0</th>\n",
       "      <td>228898</td>\n",
       "      <td>Mohd Hassan bin kamarudin</td>\n",
       "      <td>Malaysia</td>\n",
       "      <td>NaN</td>\n",
       "      <td>Online Event</td>\n",
       "      <td>Facebook</td>\n",
       "      <td>Gold_ST_TH/MY/IN Leads</td>\n",
       "      <td>Head Office/HK Office/HK Sales/Lawrence Lee Team</td>\n",
       "      <td>Current Organization</td>\n",
       "      <td>New Leads</td>\n",
       "      <td>2022-07-22 15:58:04</td>\n",
       "      <td>Not contacted</td>\n",
       "      <td>NaN</td>\n",
       "      <td>NaN</td>\n",
       "      <td>NaN</td>\n",
       "    </tr>\n",
       "    <tr>\n",
       "      <th>1</th>\n",
       "      <td>77072</td>\n",
       "      <td>ธนพงษ์ วงศ์จันทร์</td>\n",
       "      <td>Thailand</td>\n",
       "      <td>NaN</td>\n",
       "      <td>Landing page</td>\n",
       "      <td>IV Promotion</td>\n",
       "      <td>IV20211014_100_TH</td>\n",
       "      <td>Head Office/HK Office/HK Sales/Lawrence Lee Team</td>\n",
       "      <td>Current Organization</td>\n",
       "      <td>New Leads</td>\n",
       "      <td>2022-07-22 15:58:41</td>\n",
       "      <td>Not contacted</td>\n",
       "      <td>NaN</td>\n",
       "      <td>NaN</td>\n",
       "      <td>NaN</td>\n",
       "    </tr>\n",
       "    <tr>\n",
       "      <th>2</th>\n",
       "      <td>75929</td>\n",
       "      <td>Kittisak Panphueng</td>\n",
       "      <td>Thailand</td>\n",
       "      <td>NaN</td>\n",
       "      <td>Landing page</td>\n",
       "      <td>IV Promotion</td>\n",
       "      <td>IV20211014_100_TH</td>\n",
       "      <td>Head Office/HK Office/HK Sales/Lawrence Lee Team</td>\n",
       "      <td>Current Organization</td>\n",
       "      <td>New Leads</td>\n",
       "      <td>2022-07-22 15:58:41</td>\n",
       "      <td>Not contacted</td>\n",
       "      <td>NaN</td>\n",
       "      <td>NaN</td>\n",
       "      <td>NaN</td>\n",
       "    </tr>\n",
       "    <tr>\n",
       "      <th>3</th>\n",
       "      <td>75927</td>\n",
       "      <td>Phitthawat  Sirarat</td>\n",
       "      <td>Thailand</td>\n",
       "      <td>NaN</td>\n",
       "      <td>Landing page</td>\n",
       "      <td>IV Promotion</td>\n",
       "      <td>IV20211014_100_TH</td>\n",
       "      <td>Head Office/HK Office/HK Sales/Lawrence Lee Team</td>\n",
       "      <td>Current Organization</td>\n",
       "      <td>New Leads</td>\n",
       "      <td>2022-07-22 15:58:59</td>\n",
       "      <td>Not contacted</td>\n",
       "      <td>NaN</td>\n",
       "      <td>NaN</td>\n",
       "      <td>NaN</td>\n",
       "    </tr>\n",
       "    <tr>\n",
       "      <th>4</th>\n",
       "      <td>75923</td>\n",
       "      <td>Pitukchai pothi</td>\n",
       "      <td>Thailand</td>\n",
       "      <td>NaN</td>\n",
       "      <td>Landing page</td>\n",
       "      <td>IV Promotion</td>\n",
       "      <td>IV20211014_100_TH</td>\n",
       "      <td>Head Office/HK Office/HK Sales/Lawrence Lee Team</td>\n",
       "      <td>Current Organization</td>\n",
       "      <td>New Leads</td>\n",
       "      <td>2022-07-22 15:58:59</td>\n",
       "      <td>Not contacted</td>\n",
       "      <td>NaN</td>\n",
       "      <td>NaN</td>\n",
       "      <td>NaN</td>\n",
       "    </tr>\n",
       "  </tbody>\n",
       "</table>\n",
       "</div>"
      ],
      "text/plain": [
       "   Leads ID                       Name Country/Region Language  Channel Type  \\\n",
       "0    228898  Mohd Hassan bin kamarudin       Malaysia      NaN  Online Event   \n",
       "1     77072          ธนพงษ์ วงศ์จันทร์       Thailand      NaN  Landing page   \n",
       "2     75929         Kittisak Panphueng       Thailand      NaN  Landing page   \n",
       "3     75927        Phitthawat  Sirarat       Thailand      NaN  Landing page   \n",
       "4     75923            Pitukchai pothi       Thailand      NaN  Landing page   \n",
       "\n",
       "  Channel Source             Leads Batch  \\\n",
       "0       Facebook  Gold_ST_TH/MY/IN Leads   \n",
       "1   IV Promotion       IV20211014_100_TH   \n",
       "2   IV Promotion       IV20211014_100_TH   \n",
       "3   IV Promotion       IV20211014_100_TH   \n",
       "4   IV Promotion       IV20211014_100_TH   \n",
       "\n",
       "                                       Organization                 Sales  \\\n",
       "0  Head Office/HK Office/HK Sales/Lawrence Lee Team  Current Organization   \n",
       "1  Head Office/HK Office/HK Sales/Lawrence Lee Team  Current Organization   \n",
       "2  Head Office/HK Office/HK Sales/Lawrence Lee Team  Current Organization   \n",
       "3  Head Office/HK Office/HK Sales/Lawrence Lee Team  Current Organization   \n",
       "4  Head Office/HK Office/HK Sales/Lawrence Lee Team  Current Organization   \n",
       "\n",
       "  Leads Status      Allocation Date Follow Up Status Feedback  \\\n",
       "0    New Leads  2022-07-22 15:58:04    Not contacted      NaN   \n",
       "1    New Leads  2022-07-22 15:58:41    Not contacted      NaN   \n",
       "2    New Leads  2022-07-22 15:58:41    Not contacted      NaN   \n",
       "3    New Leads  2022-07-22 15:58:59    Not contacted      NaN   \n",
       "4    New Leads  2022-07-22 15:58:59    Not contacted      NaN   \n",
       "\n",
       "  Feedback Remarks Feedback Time  \n",
       "0              NaN           NaN  \n",
       "1              NaN           NaN  \n",
       "2              NaN           NaN  \n",
       "3              NaN           NaN  \n",
       "4              NaN           NaN  "
      ]
     },
     "execution_count": 2,
     "metadata": {},
     "output_type": "execute_result"
    }
   ],
   "source": [
    "data.head()"
   ]
  },
  {
   "cell_type": "code",
   "execution_count": 3,
   "id": "b9d673af",
   "metadata": {},
   "outputs": [
    {
     "data": {
      "text/plain": [
       "Index(['Leads ID', 'Name', 'Country/Region', 'Language', 'Channel Type',\n",
       "       'Channel Source', 'Leads Batch', 'Organization', 'Sales',\n",
       "       'Leads Status', 'Allocation Date', 'Follow Up Status', 'Feedback',\n",
       "       'Feedback Remarks', 'Feedback Time'],\n",
       "      dtype='object')"
      ]
     },
     "execution_count": 3,
     "metadata": {},
     "output_type": "execute_result"
    }
   ],
   "source": [
    "data.columns"
   ]
  },
  {
   "cell_type": "code",
   "execution_count": 8,
   "id": "c7fb40e0",
   "metadata": {},
   "outputs": [
    {
     "name": "stdout",
     "output_type": "stream",
     "text": [
      "2022-09-10 17:55:46.677117\n",
      "<class 'pandas._libs.tslibs.timestamps.Timestamp'>\n"
     ]
    }
   ],
   "source": [
    "date_today = pd.to_datetime('today')\n",
    "print(date_today)\n",
    "print(type(date_today))"
   ]
  },
  {
   "cell_type": "code",
   "execution_count": 9,
   "id": "52607c92",
   "metadata": {},
   "outputs": [
    {
     "name": "stdout",
     "output_type": "stream",
     "text": [
      "<class 'pandas.core.series.Series'>\n"
     ]
    }
   ],
   "source": [
    "print(type(data['Allocation Date']) )\n"
   ]
  },
  {
   "cell_type": "code",
   "execution_count": 10,
   "id": "287f5d7b",
   "metadata": {},
   "outputs": [],
   "source": [
    "data['Allocation Date']=pd.to_datetime(data['Allocation Date'])"
   ]
  },
  {
   "cell_type": "code",
   "execution_count": 11,
   "id": "04a686c9",
   "metadata": {},
   "outputs": [
    {
     "name": "stdout",
     "output_type": "stream",
     "text": [
      "<class 'pandas.core.series.Series'>\n"
     ]
    }
   ],
   "source": [
    "print(type(data['Allocation Date']))"
   ]
  },
  {
   "cell_type": "code",
   "execution_count": 22,
   "id": "d13863f7",
   "metadata": {},
   "outputs": [
    {
     "name": "stdout",
     "output_type": "stream",
     "text": [
      "50.08131570737269\n"
     ]
    }
   ],
   "source": [
    "print((date_today-data.loc[1,'Allocation Date'])/np.timedelta64(1,'D') )"
   ]
  },
  {
   "cell_type": "code",
   "execution_count": 27,
   "id": "233cdd59",
   "metadata": {},
   "outputs": [],
   "source": [
    "date_difference=[]\n",
    "for i in range(data.shape[0]):\n",
    "    val = int((date_today-data.loc[i,'Allocation Date'])/np.timedelta64(1,'D'))\n",
    "    date_difference.append(val)\n",
    "data['Date_diff'] = date_difference\n",
    "    \n",
    "    \n"
   ]
  },
  {
   "cell_type": "code",
   "execution_count": 29,
   "id": "31880f89",
   "metadata": {},
   "outputs": [
    {
     "name": "stdout",
     "output_type": "stream",
     "text": [
      "Index(['Leads ID', 'Name', 'Country/Region', 'Language', 'Channel Type',\n",
      "       'Channel Source', 'Leads Batch', 'Organization', 'Sales',\n",
      "       'Leads Status', 'Allocation Date', 'Follow Up Status', 'Feedback',\n",
      "       'Feedback Remarks', 'Feedback Time', 'Date_diff'],\n",
      "      dtype='object')\n",
      "   Leads ID                       Name Country/Region Language  Channel Type  \\\n",
      "0    228898  Mohd Hassan bin kamarudin       Malaysia      NaN  Online Event   \n",
      "1     77072          ธนพงษ์ วงศ์จันทร์       Thailand      NaN  Landing page   \n",
      "2     75929         Kittisak Panphueng       Thailand      NaN  Landing page   \n",
      "3     75927        Phitthawat  Sirarat       Thailand      NaN  Landing page   \n",
      "4     75923            Pitukchai pothi       Thailand      NaN  Landing page   \n",
      "\n",
      "  Channel Source             Leads Batch  \\\n",
      "0       Facebook  Gold_ST_TH/MY/IN Leads   \n",
      "1   IV Promotion       IV20211014_100_TH   \n",
      "2   IV Promotion       IV20211014_100_TH   \n",
      "3   IV Promotion       IV20211014_100_TH   \n",
      "4   IV Promotion       IV20211014_100_TH   \n",
      "\n",
      "                                       Organization                 Sales  \\\n",
      "0  Head Office/HK Office/HK Sales/Lawrence Lee Team  Current Organization   \n",
      "1  Head Office/HK Office/HK Sales/Lawrence Lee Team  Current Organization   \n",
      "2  Head Office/HK Office/HK Sales/Lawrence Lee Team  Current Organization   \n",
      "3  Head Office/HK Office/HK Sales/Lawrence Lee Team  Current Organization   \n",
      "4  Head Office/HK Office/HK Sales/Lawrence Lee Team  Current Organization   \n",
      "\n",
      "  Leads Status     Allocation Date Follow Up Status Feedback Feedback Remarks  \\\n",
      "0    New Leads 2022-07-22 15:58:04    Not contacted      NaN              NaN   \n",
      "1    New Leads 2022-07-22 15:58:41    Not contacted      NaN              NaN   \n",
      "2    New Leads 2022-07-22 15:58:41    Not contacted      NaN              NaN   \n",
      "3    New Leads 2022-07-22 15:58:59    Not contacted      NaN              NaN   \n",
      "4    New Leads 2022-07-22 15:58:59    Not contacted      NaN              NaN   \n",
      "\n",
      "  Feedback Time  Date_diff  \n",
      "0           NaN         50  \n",
      "1           NaN         50  \n",
      "2           NaN         50  \n",
      "3           NaN         50  \n",
      "4           NaN         50  \n"
     ]
    }
   ],
   "source": [
    "print(data.columns)\n",
    "print(data.head())"
   ]
  },
  {
   "cell_type": "code",
   "execution_count": 31,
   "id": "f6676989",
   "metadata": {},
   "outputs": [
    {
     "name": "stdout",
     "output_type": "stream",
     "text": [
      "(14887, 16)\n"
     ]
    }
   ],
   "source": [
    "ind = (data['Follow Up Status']=='Not contacted')&(data['Date_diff']>=30)\n",
    "newData = data[ind]\n",
    "\n",
    "print(newData.shape)"
   ]
  },
  {
   "cell_type": "code",
   "execution_count": 35,
   "id": "62a4bdb0",
   "metadata": {},
   "outputs": [
    {
     "data": {
      "text/html": [
       "<div>\n",
       "<style scoped>\n",
       "    .dataframe tbody tr th:only-of-type {\n",
       "        vertical-align: middle;\n",
       "    }\n",
       "\n",
       "    .dataframe tbody tr th {\n",
       "        vertical-align: top;\n",
       "    }\n",
       "\n",
       "    .dataframe thead th {\n",
       "        text-align: right;\n",
       "    }\n",
       "</style>\n",
       "<table border=\"1\" class=\"dataframe\">\n",
       "  <thead>\n",
       "    <tr style=\"text-align: right;\">\n",
       "      <th></th>\n",
       "      <th>Follow Up Status</th>\n",
       "      <th>Date_diff</th>\n",
       "    </tr>\n",
       "  </thead>\n",
       "  <tbody>\n",
       "    <tr>\n",
       "      <th>19689</th>\n",
       "      <td>Not contacted</td>\n",
       "      <td>50</td>\n",
       "    </tr>\n",
       "    <tr>\n",
       "      <th>19690</th>\n",
       "      <td>Not contacted</td>\n",
       "      <td>50</td>\n",
       "    </tr>\n",
       "    <tr>\n",
       "      <th>19703</th>\n",
       "      <td>Not contacted</td>\n",
       "      <td>30</td>\n",
       "    </tr>\n",
       "    <tr>\n",
       "      <th>19705</th>\n",
       "      <td>Not contacted</td>\n",
       "      <td>50</td>\n",
       "    </tr>\n",
       "    <tr>\n",
       "      <th>19782</th>\n",
       "      <td>Not contacted</td>\n",
       "      <td>30</td>\n",
       "    </tr>\n",
       "  </tbody>\n",
       "</table>\n",
       "</div>"
      ],
      "text/plain": [
       "      Follow Up Status  Date_diff\n",
       "19689    Not contacted         50\n",
       "19690    Not contacted         50\n",
       "19703    Not contacted         30\n",
       "19705    Not contacted         50\n",
       "19782    Not contacted         30"
      ]
     },
     "execution_count": 35,
     "metadata": {},
     "output_type": "execute_result"
    }
   ],
   "source": [
    "newData[['Follow Up Status','Date_diff']].tail()"
   ]
  },
  {
   "cell_type": "code",
   "execution_count": 56,
   "id": "1e2e6c22",
   "metadata": {},
   "outputs": [
    {
     "data": {
      "text/plain": [
       "<AxesSubplot:>"
      ]
     },
     "execution_count": 56,
     "metadata": {},
     "output_type": "execute_result"
    },
    {
     "data": {
      "image/png": "[encoded data removed]",
      "text/plain": [
       "<Figure size 1728x720 with 1 Axes>"
      ]
     },
     "metadata": {
      "needs_background": "light"
     },
     "output_type": "display_data"
    }
   ],
   "source": [
    "v = newData['Sales'].unique()\n",
    "res = []\n",
    "for i in range(v.shape[0]):\n",
    "    ind = (data['Sales']==v[i])\n",
    "    res.append(data[ind].shape[0])\n",
    "res = np.array(res)\n",
    "res = res.reshape(-1,1)\n",
    "result = pd.DataFrame(res,index=v,columns=['Not-contacted'])\n",
    "result.plot(kind='bar',figsize=(24,10))\n",
    "    "
   ]
  },
  {
   "cell_type": "code",
   "execution_count": 53,
   "id": "198cdd6c",
   "metadata": {},
   "outputs": [
    {
     "name": "stdout",
     "output_type": "stream",
     "text": [
      "[94, 4, 308, 356, 101, 1, 4, 24, 1, 3, 79, 52, 306, 1, 12, 38, 50, 9, 1640, 2, 1, 1, 69, 10650, 1, 7, 5, 1949, 1, 1, 10, 210, 1, 11, 26, 1, 1, 587, 95, 25, 1, 1, 1, 765, 1, 20, 18, 4, 1, 25, 92, 1, 3, 812, 1, 52, 12, 1, 1, 1, 232, 301]\n"
     ]
    }
   ],
   "source": [
    "print(res)"
   ]
  },
  {
   "cell_type": "code",
   "execution_count": null,
   "id": "0b4554b9",
   "metadata": {},
   "outputs": [],
   "source": []
  }
 ],
 "metadata": {
  "kernelspec": {
   "display_name": "Python 3 (ipykernel)",
   "language": "python",
   "name": "python3"
  },
  "language_info": {
   "codemirror_mode": {
    "name": "ipython",
    "version": 3
   },
   "file_extension": ".py",
   "mimetype": "text/x-python",
   "name": "python",
   "nbconvert_exporter": "python",
   "pygments_lexer": "ipython3",
   "version": "3.9.13"
  }
 },
 "nbformat": 4,
 "nbformat_minor": 5
}
