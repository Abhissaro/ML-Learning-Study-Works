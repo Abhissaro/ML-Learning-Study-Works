{
 "cells": [
  {
   "cell_type": "code",
   "execution_count": 7,
   "id": "b0a71861",
   "metadata": {},
   "outputs": [
    {
     "name": "stdout",
     "output_type": "stream",
     "text": [
      "<class 'sklearn.utils.Bunch'>\n",
      "(150, 4)\n",
      "[0 0 0 0 0 0 0 0 0 0 0 0 0 0 0 0 0 0 0 0 0 0 0 0 0 0 0 0 0 0 0 0 0 0 0 0 0\n",
      " 0 0 0 0 0 0 0 0 0 0 0 0 0 1 1 1 1 1 1 1 1 1 1 1 1 1 1 1 1 1 1 1 1 1 1 1 1\n",
      " 1 1 1 1 1 1 1 1 1 1 1 1 1 1 1 1 1 1 1 1 1 1 1 1 1 1 2 2 2 2 2 2 2 2 2 2 2\n",
      " 2 2 2 2 2 2 2 2 2 2 2 2 2 2 2 2 2 2 2 2 2 2 2 2 2 2 2 2 2 2 2 2 2 2 2 2 2\n",
      " 2 2]\n",
      "['setosa' 'versicolor' 'virginica']\n"
     ]
    }
   ],
   "source": [
    "from sklearn import datasets, metrics,svm\n",
    "# svm - support vector machine classfier used for the classification application \n",
    "\n",
    "# load the predefined iris dataset in the sklearn library \n",
    "data = datasets.load_iris()\n",
    "print(type(data))\n",
    "\n",
    "# access the data \n",
    "#print(data.data)\n",
    "print(data.data.shape)\n",
    "\n",
    "print(data.target) # class , label, target, users, output \n",
    "print(data.target_names)"
   ]
  },
  {
   "cell_type": "code",
   "execution_count": 9,
   "id": "0ba6bd45",
   "metadata": {},
   "outputs": [
    {
     "name": "stdout",
     "output_type": "stream",
     "text": [
      "[5.1 3.5 1.4 0.2]\n",
      "['sepal length (cm)', 'sepal width (cm)', 'petal length (cm)', 'petal width (cm)']\n"
     ]
    }
   ],
   "source": [
    "\n",
    "print(data.data[0,:])\n",
    "print(data.feature_names)"
   ]
  },
  {
   "cell_type": "code",
   "execution_count": 10,
   "id": "707c7683",
   "metadata": {},
   "outputs": [],
   "source": [
    "# transfer the data into X and Y variable \n",
    "X = data.data # data\n",
    "Y = data.target # labels"
   ]
  },
  {
   "cell_type": "code",
   "execution_count": 11,
   "id": "4d4e139e",
   "metadata": {},
   "outputs": [
    {
     "name": "stdout",
     "output_type": "stream",
     "text": [
      "(150, 4)\n",
      "(150,)\n"
     ]
    }
   ],
   "source": [
    "print(X.shape)\n",
    "print(Y.shape)"
   ]
  },
  {
   "cell_type": "code",
   "execution_count": 12,
   "id": "fd83ca83",
   "metadata": {},
   "outputs": [
    {
     "name": "stdout",
     "output_type": "stream",
     "text": [
      "(105, 4) (105,)\n",
      "(45, 4) (45,)\n"
     ]
    }
   ],
   "source": [
    "# dividing the data into training and testing \n",
    "\n",
    "from sklearn.model_selection import train_test_split\n",
    "\n",
    "# test_size = 0-1 (0-0% 1-100%)\n",
    "# 0.3 for testing , 0.7 for training \n",
    "\n",
    "Xtrain,Xtest,ytrain,ytest = train_test_split(X,Y,test_size=0.3,random_state=2)\n",
    "print(Xtrain.shape,ytrain.shape)\n",
    "print(Xtest.shape,ytest.shape)"
   ]
  },
  {
   "cell_type": "code",
   "execution_count": 13,
   "id": "23453ce6",
   "metadata": {},
   "outputs": [],
   "source": [
    "# create the classification model \n",
    "clfModel = svm.SVC() # considereing support vfector classificer for classifcation application\n",
    "# wiht default values of hyer parameters \n",
    "\n",
    "# train the model using training data  (Xtrain , ytrain)\n",
    "clfModel = clfModel.fit(Xtrain,ytrain)\n",
    "\n",
    "# test the data using unseen Xtest samples only \n",
    "ypred = clfModel.predict(Xtest)\n",
    "\n"
   ]
  },
  {
   "cell_type": "code",
   "execution_count": 16,
   "id": "41955f9f",
   "metadata": {},
   "outputs": [
    {
     "name": "stdout",
     "output_type": "stream",
     "text": [
      "Accuracy of the Model on iris dataset:  97.77777777777777 %\n",
      "confusion matrix:\n",
      "[[17  0  0]\n",
      " [ 0 14  0]\n",
      " [ 0  1 13]]\n",
      "Complete report \n",
      "              precision    recall  f1-score   support\n",
      "\n",
      "           0       1.00      1.00      1.00        17\n",
      "           1       0.93      1.00      0.97        14\n",
      "           2       1.00      0.93      0.96        14\n",
      "\n",
      "    accuracy                           0.98        45\n",
      "   macro avg       0.98      0.98      0.98        45\n",
      "weighted avg       0.98      0.98      0.98        45\n",
      "\n"
     ]
    }
   ],
   "source": [
    "# analysis (parameter evaluations)\n",
    "\n",
    "acc = metrics.accuracy_score(ypred,ytest)\n",
    "conf_matrix = metrics.confusion_matrix(ypred,ytest)\n",
    "report = metrics.classification_report(ypred,ytest)\n",
    "\n",
    "print(\"Accuracy of the Model on iris dataset: \",acc*100,'%')\n",
    "\n",
    "print(\"confusion matrix:\")\n",
    "print(conf_matrix)\n",
    "\n",
    "print('Complete report ')\n",
    "print(report)\n"
   ]
  },
  {
   "cell_type": "code",
   "execution_count": null,
   "id": "e0d4540e",
   "metadata": {},
   "outputs": [],
   "source": []
  }
 ],
 "metadata": {
  "kernelspec": {
   "display_name": "Python 3 (ipykernel)",
   "language": "python",
   "name": "python3"
  },
  "language_info": {
   "codemirror_mode": {
    "name": "ipython",
    "version": 3
   },
   "file_extension": ".py",
   "mimetype": "text/x-python",
   "name": "python",
   "nbconvert_exporter": "python",
   "pygments_lexer": "ipython3",
   "version": "3.9.13"
  }
 },
 "nbformat": 4,
 "nbformat_minor": 5
}
